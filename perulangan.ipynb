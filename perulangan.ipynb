{
 "cells": [
  {
   "cell_type": "markdown",
   "metadata": {},
   "source": [
    "# Perulangan"
   ]
  },
  {
   "cell_type": "markdown",
   "metadata": {},
   "source": [
    "perulangan biasa dilakukan untuk melakukan sesuatu secara berulang ulang. \n",
    "untuk mengulang sesuatu dalam bahasa pemrograman terutama di python,\n",
    "tidak perlu kita menyebutkan dan menulis program secara berulang ulang.\n",
    "\n",
    "jika kita ingin melakukan program yang berulang ulang kita tidak harus menulisnya satu per satu ,nantinya akan memakan banyak baris code program dan tidak efektif.\n",
    "\n",
    "pada python, terdapat program yang disebut looping. looping ini terdiri dari 2 macam yaitu while dan for.\n",
    "for merupakan perulangan yang bisa dihitung(counted loop) sedangkan while merupakan perulangan yang tidak kita tahu batas hitunganya(uncounted loop)\n",
    "\n",
    "for biasanya digunakan untuk perulangan yang kita sudah tahu banyak perulanganya. sedangkan pada while loop kita tidak mengetahui banyak perulanganya akan tetapi dibatasi oleh syarat yang diberikan."
   ]
  },
  {
   "cell_type": "markdown",
   "metadata": {},
   "source": [
    "### while loop"
   ]
  },
  {
   "cell_type": "markdown",
   "metadata": {},
   "source": [
    "while loop merupakan perulangan yang tak kita tahu banyaknya akan tetapi perulangan akan berhenti jika telah memenuhi syarat yang diberikan."
   ]
  },
  {
   "cell_type": "code",
   "execution_count": null,
   "metadata": {},
   "outputs": [],
   "source": [
    "#sintaks while loop\n",
    "while(True):\n",
    "    # eksekusi kode ini\n",
    "# kode ini berada di luar perulangan while"
   ]
  },
  {
   "cell_type": "code",
   "execution_count": 21,
   "metadata": {},
   "outputs": [
    {
     "name": "stdout",
     "output_type": "stream",
     "text": [
      "perkalian 2  *  1  adalah :   2\n",
      "perkalian 2  *  2  adalah :   4\n",
      "perkalian 2  *  3  adalah :   6\n",
      "perkalian 2  *  4  adalah :   8\n",
      "perkalian 2  *  5  adalah :   10\n",
      "perkalian 2  *  6  adalah :   12\n",
      "perkalian 2  *  7  adalah :   14\n",
      "perkalian 2  *  8  adalah :   16\n",
      "perkalian 2  *  9  adalah :   18\n",
      "perkalian 2  *  10  adalah :   20\n",
      "Good bye!\n"
     ]
    }
   ],
   "source": [
    "#contoh program perkalian 2 dengan while loop\n",
    "count = 1\n",
    "while (count <= 10):\n",
    "    perkalian = count * 2\n",
    "    print (\"perkalian 2  * \",count,\" adalah :  \",perkalian)\n",
    "    count = count + 1\n",
    "print (\"Good bye!\")"
   ]
  },
  {
   "cell_type": "code",
   "execution_count": 26,
   "metadata": {},
   "outputs": [
    {
     "name": "stdout",
     "output_type": "stream",
     "text": [
      "Ulang lagi tidak? ya\n",
      "Ulang lagi tidak? ya\n",
      "Ulang lagi tidak? ya\n",
      "Ulang lagi tidak? ya\n",
      "Ulang lagi tidak? ya\n",
      "Ulang lagi tidak? ya\n",
      "Ulang lagi tidak? ya\n",
      "Ulang lagi tidak? ya\n",
      "Ulang lagi tidak? ya\n",
      "Ulang lagi tidak? ya\n",
      "Ulang lagi tidak? ya\n",
      "Ulang lagi tidak? tidak\n",
      "Total perulagan:  12\n"
     ]
    }
   ],
   "source": [
    "#contoh program cek berapa kali perulangan\n",
    "\n",
    "jawab = 'ya'\n",
    "hitung = 0\n",
    "\n",
    "while(jawab == 'ya'):\n",
    "    hitung += 1\n",
    "    jawab = input(\"Ulang lagi tidak? \")\n",
    "    if jawab == 'tidak':\n",
    "        break\n",
    "\n",
    "print(\"Total perulagan: \",hitung)"
   ]
  },
  {
   "cell_type": "markdown",
   "metadata": {},
   "source": [
    "### for loop "
   ]
  },
  {
   "cell_type": "markdown",
   "metadata": {},
   "source": [
    "for loop merupakan perulangan yang dapat dihitung banyak perulanganya.perulangan for biasa disebut counted loop\n",
    "bentuk sintaks dari for loop adalah sebagai berikut :b"
   ]
  },
  {
   "cell_type": "code",
   "execution_count": null,
   "metadata": {},
   "outputs": [],
   "source": [
    "for index in banyak_perulangan:\n",
    "    # eksekusi kode ini\n",
    "    # eksekusi juga kode ini\n",
    "#kode ini tidak akan diulang karena berada di luar for"
   ]
  },
  {
   "cell_type": "markdown",
   "metadata": {},
   "source": [
    "banyaknya perulangan bisa menggunakan fungsi range()"
   ]
  },
  {
   "cell_type": "code",
   "execution_count": 29,
   "metadata": {},
   "outputs": [
    {
     "name": "stdout",
     "output_type": "stream",
     "text": [
      "ini adalah perulangan ke =  0\n",
      "ini adalah perulangan ke =  1\n",
      "ini adalah perulangan ke =  2\n",
      "ini adalah perulangan ke =  3\n",
      "ini adalah perulangan ke =  4\n",
      "ini adalah perulangan ke =  5\n",
      "ini adalah perulangan ke =  6\n",
      "ini adalah perulangan ke =  7\n",
      "ini adalah perulangan ke =  8\n",
      "ini adalah perulangan ke =  9\n"
     ]
    }
   ],
   "source": [
    "#contoh program dengan for\n",
    "batas_ulang = 10\n",
    "for i in range(batas_ulang):\n",
    "    print(\"ini adalah perulangan ke = \",i)"
   ]
  },
  {
   "cell_type": "code",
   "execution_count": 30,
   "metadata": {},
   "outputs": [
    {
     "name": "stdout",
     "output_type": "stream",
     "text": [
      "ini adalah perulangan ke =  1\n",
      "ini adalah perulangan ke =  2\n",
      "ini adalah perulangan ke =  3\n",
      "ini adalah perulangan ke =  4\n",
      "ini adalah perulangan ke =  5\n",
      "ini adalah perulangan ke =  6\n",
      "ini adalah perulangan ke =  7\n",
      "ini adalah perulangan ke =  8\n",
      "ini adalah perulangan ke =  9\n",
      "ini adalah perulangan ke =  10\n",
      "ini adalah perulangan ke =  11\n",
      "ini adalah perulangan ke =  12\n",
      "ini adalah perulangan ke =  13\n",
      "ini adalah perulangan ke =  14\n"
     ]
    }
   ],
   "source": [
    "#contoh program dengan for\n",
    "\n",
    "for i in range(1,15):\n",
    "    print(\"ini adalah perulangan ke = \",i)"
   ]
  },
  {
   "cell_type": "markdown",
   "metadata": {},
   "source": [
    "for juga dapat digunakan untuk melakukan perulangan dalam list"
   ]
  },
  {
   "cell_type": "code",
   "execution_count": 33,
   "metadata": {},
   "outputs": [
    {
     "name": "stdout",
     "output_type": "stream",
     "text": [
      "mobil adalah nama kendaraan\n",
      "motor adalah nama kendaraan\n",
      "becak adalah nama kendaraan\n",
      "kereta adalah nama kendaraan\n",
      "pesawat adalah nama kendaraan\n"
     ]
    }
   ],
   "source": [
    "#contoh perulangan for di list\n",
    "kendaraan = [\"mobil\",\"motor\",\"becak\",\"kereta\",\"pesawat\"]\n",
    "\n",
    "for nama in kendaraan:\n",
    "    print(nama,\"adalah nama kendaraan\")"
   ]
  },
  {
   "cell_type": "code",
   "execution_count": null,
   "metadata": {},
   "outputs": [],
   "source": []
  }
 ],
 "metadata": {
  "kernelspec": {
   "display_name": "Python 3",
   "language": "python",
   "name": "python3"
  },
  "language_info": {
   "codemirror_mode": {
    "name": "ipython",
    "version": 3
   },
   "file_extension": ".py",
   "mimetype": "text/x-python",
   "name": "python",
   "nbconvert_exporter": "python",
   "pygments_lexer": "ipython3",
   "version": "3.7.2"
  }
 },
 "nbformat": 4,
 "nbformat_minor": 4
}
