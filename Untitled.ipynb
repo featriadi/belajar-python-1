{
 "cells": [
  {
   "cell_type": "markdown",
   "metadata": {},
   "source": [
    "# variabel\n",
    "\n",
    "variabel adalah lokasi memori yang dapat menyimpan nilai dimana nilai tersebut dapat diubah sewaktu waktu sesuai dengan kebutuhan .variabel digunakan dalam python mempunyai sifat yang dinamis dan tidak perlu dideklarasikan terlebih dahulu dengan tipe data tertentu. pada python kita tidak perlu menyebutkan tipe datanya apa seperti bahasa pemrograman yang lain. variabel pada python juga dapat diubah pada saat program dijalankan"
   ]
  },
  {
   "cell_type": "markdown",
   "metadata": {},
   "source": [
    "untuk membuat variabel pada python cukup mudah. hanya cukup\n",
    "menuliskan nama variabelnya dan memasukan suatu nilai didalamnya.\n",
    "tambahkan tanda samadengan(=) antara nama variabel dan nilai dalam variabelnya\n",
    "contoh:"
   ]
  },
  {
   "cell_type": "code",
   "execution_count": 1,
   "metadata": {},
   "outputs": [
    {
     "name": "stdout",
     "output_type": "stream",
     "text": [
      "andi\n",
      "1\n"
     ]
    }
   ],
   "source": [
    "nama = 'andi'\n",
    "angka = 1\n",
    "print(nama)\n",
    "print(angka)"
   ]
  },
  {
   "cell_type": "markdown",
   "metadata": {},
   "source": [
    "aturan penulisan variabel ke - 1: karakter pertama pada variabel menggunakan huruf atau garis bawah. setelah itu bisa dilanjutkan dengan huruf , angka , atau garis bawa"
   ]
  },
  {
   "cell_type": "code",
   "execution_count": null,
   "metadata": {},
   "outputs": [],
   "source": [
    "nama_guru1 = 'andi'\n",
    "nama_guru2 = 'dimas'\n",
    "_nama_guru3 = 'ari'\n"
   ]
  },
  {
   "cell_type": "markdown",
   "metadata": {},
   "source": [
    "aturan penulisan variabel ke - 2: jumlah karakter pada penulisan variabel tidak terbatas, \n",
    "akan tetapi lebih baik digunakan seperlunya\n",
    "    "
   ]
  },
  {
   "cell_type": "code",
   "execution_count": null,
   "metadata": {},
   "outputs": [],
   "source": [
    "nama_dosen_jurusan_teknik_informatika = 'Pak Andi'"
   ]
  },
  {
   "cell_type": "markdown",
   "metadata": {},
   "source": [
    "aturan penulisan variabel ke - 3 : penulisan variabel case sensitive"
   ]
  },
  {
   "cell_type": "code",
   "execution_count": 3,
   "metadata": {},
   "outputs": [
    {
     "name": "stdout",
     "output_type": "stream",
     "text": [
      "panjang = 6\n",
      "lebar = 7\n"
     ]
    }
   ],
   "source": [
    "panjang = 6\n",
    "lebar = 7\n",
    "print('panjang =',panjang)\n",
    "print('lebar =',lebar)\n"
   ]
  },
  {
   "cell_type": "markdown",
   "metadata": {},
   "source": [
    "aturan penulisan variabel ke - 4 : dilarang menulis variabel dengan keyword yang ada di python seperti if,else,continue,break"
   ]
  },
  {
   "cell_type": "code",
   "execution_count": null,
   "metadata": {
    "collapsed": true
   },
   "outputs": [],
   "source": [
    "continue = 4 \n",
    "break = 7"
   ]
  }
 ],
 "metadata": {
  "kernelspec": {
   "display_name": "Python 3",
   "language": "python",
   "name": "python3"
  },
  "language_info": {
   "codemirror_mode": {
    "name": "ipython",
    "version": 3
   },
   "file_extension": ".py",
   "mimetype": "text/x-python",
   "name": "python",
   "nbconvert_exporter": "python",
   "pygments_lexer": "ipython3",
   "version": "3.7.2"
  }
 },
 "nbformat": 4,
 "nbformat_minor": 4
}
