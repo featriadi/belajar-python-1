{
 "cells": [
  {
   "cell_type": "code",
   "execution_count": 8,
   "metadata": {},
   "outputs": [
    {
     "name": "stdout",
     "output_type": "stream",
     "text": [
      "Selamat Datang di ATM Kami \n",
      "Nama Nasabah : pake\n",
      "Selamat Datang di ATM Kami  pake\n",
      "Silahkan masukan saldo awal : 0\n",
      "Selamat datang  pake\n",
      "Silahkan masukan saldo awal : 120000\n",
      "Terima kasih sudah bertransaksi\n"
     ]
    }
   ],
   "source": [
    "#membuat fungsi cek saldo\n",
    "def cekSaldo(saldo):\n",
    "    return saldo\n",
    "\n",
    "#membuat fungsi deposito\n",
    "def deposit(input_saldo):\n",
    "    saldo = saldo_awal + input_saldo\n",
    "    return saldo\n",
    "\n",
    "#membuat fungsi tarik uang\n",
    "def tarikUang(input_saldo):\n",
    "    saldo = saldo_awal - input_saldo\n",
    "    return saldo\n",
    "\n",
    "#membuat fungsi keluar\n",
    "def keluar():\n",
    "    print(\"Terimakasih telah menggunakan ATM !!! \")\n",
    "    print(\"Program berakhir\")\n",
    "    exit()\n",
    "\n",
    "\n",
    "def menu():    \n",
    "    print(\" ATM \".center(11, \"=\"))\n",
    "    print(\"\"\" Menu :\n",
    "        1) Cek Saldo\n",
    "        2) Tarik Uang\n",
    "        3) Deposit\n",
    "        4) Keluar \"\"\")\n",
    "\n",
    "    #menu \n",
    "    option = int(input(\"Pilih menu no : \"))\n",
    "\n",
    "    if option == 1:\n",
    "        cek = cekSaldo(saldo_awal)\n",
    "        print(\"Saldo awal anda :\", cek)\n",
    "    elif option == 2:\n",
    "        input_saldo = int(input(\"Masukan besar uang yg ingin di tarik : \"))\n",
    "        saldo_akhir = tarikUang(input_saldo)\n",
    "        print(\"Saldo berkurang :\", input_saldo)\n",
    "        print(\"Saldo akhir anda\", saldo_akhir)\n",
    "    elif option == 3:\n",
    "        input_saldo = int(input(\"Masukan besar uang yg ingin di deposit : \"))\n",
    "        saldo_akhir = deposit(input_saldo)\n",
    "        print(\"Saldo bertambah : \", input_saldo)\n",
    "        print(\"Saldo akhir anda : \", saldo_akhir)\n",
    "    elif option == 4:\n",
    "        keluar()\n",
    "    else:\n",
    "        print(option, \"tidak ada dalam daftar menu\")\n",
    "\n",
    "#selamat datang nasabah\n",
    "print(\"Selamat Datang di ATM Kami \")\n",
    "nama = input(\"Nama Nasabah : \")\n",
    "print(\"Selamat Datang di ATM Kami \",nama)\n",
    "saldo_awal = int(input(\"Silahkan masukan saldo awal : \"))\n",
    "#masukan saldo awal\n",
    "print(\"Selamat datang \", nama)\n",
    "if saldo_awal <= 0: \n",
    "    saldo_awal = int(input(\"Silahkan masukan saldo awal : \"))\n",
    "else:\n",
    "    menu()\n",
    "    \n",
    "print(\"Terima kasih sudah bertransaksi\")"
   ]
  }
 ],
 "metadata": {
  "kernelspec": {
   "display_name": "Python 3",
   "language": "python",
   "name": "python3"
  },
  "language_info": {
   "codemirror_mode": {
    "name": "ipython",
    "version": 3
   },
   "file_extension": ".py",
   "mimetype": "text/x-python",
   "name": "python",
   "nbconvert_exporter": "python",
   "pygments_lexer": "ipython3",
   "version": "3.7.2"
  }
 },
 "nbformat": 4,
 "nbformat_minor": 4
}
