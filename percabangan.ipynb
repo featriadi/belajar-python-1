{
 "cells": [
  {
   "cell_type": "markdown",
   "metadata": {},
   "source": [
    "# percabangan"
   ]
  },
  {
   "attachments": {
    "image-2.png": {
     "image/png": "[encoded data removed]"
    },
    "image-3.png": {
     "image/png": "[encoded data removed]"
    },
    "image-4.png": {
     "image/png": "[encoded data removed]"
    }
   },
   "cell_type": "markdown",
   "metadata": {},
   "source": [
    "pada pemrograman terdapat logika percabangan. percabangan ini biasa digunakan untuk memahami logika program. Dalam sebuah program biasanya akan terjadi alur program yang bercabang. \n",
    "\n",
    "percabangan biasanya mengambarkan suatu kondisi. penggunaan percabangan ini biasanya digunakan untuk menentukan sebuah tindakan sesuai kondisi program yang dibuat.\n",
    "![image-2.png](attachment:image-2.png)\n",
    "\n",
    "pada logika percabangan biasa dipahami dengan logika \"jika .. maka ...\". \n",
    "sebagai contoh yang bisa kita temukan sehari hari:\n",
    "\"jika di kalender hari ini adalah tanggal merah, maka hari ini hari libur\"\n",
    "![image-3.png](attachment:image-3.png)\n",
    "\n",
    "\"jika bilangan bisa dibagi 2 sisa baginya adalah 0 , maka bilangan adalah bilangan genap\"\n",
    "\n",
    "![image-4.png](attachment:image-4.png)\n"
   ]
  },
  {
   "cell_type": "markdown",
   "metadata": {},
   "source": [
    "#### logika if"
   ]
  },
  {
   "attachments": {},
   "cell_type": "markdown",
   "metadata": {},
   "source": [
    "logika percabangan if akan digunakan jika hanya terdapat satu keputusan\n",
    "sintaks pemrograman logika if dengan menuliskan sintaks if:\n",
    "\n",
    "\n"
   ]
  },
  {
   "cell_type": "code",
   "execution_count": null,
   "metadata": {},
   "outputs": [],
   "source": [
    "if kondisi:\n",
    "    eksekusi"
   ]
  },
  {
   "attachments": {
    "image.png": {
     "image/png": "[encoded data removed]"
    }
   },
   "cell_type": "markdown",
   "metadata": {},
   "source": [
    "misalkan contoh :\n",
    "\"jika sore ini mendung,maka angkat jemuran\"\n",
    "![image.png](attachment:image.png)\n",
    "\n",
    "maka kode programnya adalah sebagai berikut"
   ]
  },
  {
   "cell_type": "code",
   "execution_count": 2,
   "metadata": {},
   "outputs": [
    {
     "name": "stdout",
     "output_type": "stream",
     "text": [
      "angkat jemuran\n"
     ]
    }
   ],
   "source": [
    "cuaca = \"mendung\"\n",
    "if cuaca == \"mendung\":\n",
    "    print(\"angkat jemuran\")"
   ]
  },
  {
   "cell_type": "markdown",
   "metadata": {},
   "source": [
    "penulisan sintaks harus sesuai indentasinya jika indentasinya salah maka akan muncul pesan error"
   ]
  },
  {
   "cell_type": "code",
   "execution_count": 3,
   "metadata": {},
   "outputs": [
    {
     "name": "stdout",
     "output_type": "stream",
     "text": [
      "angkat jemuran\n"
     ]
    }
   ],
   "source": [
    "#sintaks program yang benar\n",
    "cuaca = \"mendung\"\n",
    "if cuaca == \"mendung\":\n",
    "    print(\"angkat jemuran\")"
   ]
  },
  {
   "cell_type": "code",
   "execution_count": null,
   "metadata": {},
   "outputs": [],
   "source": [
    "#program yang salah\n",
    "cuaca = \"mendung\"\n",
    "if cuaca == \"mendung\":\n",
    "print(\"angkat jemuran\")\n",
    "\n",
    "#program yang salah\n",
    "cuaca = \"mendung\"\n",
    "if cuaca == \"mendung\":\n",
    "        print(\"angkat jemuran\")"
   ]
  },
  {
   "cell_type": "markdown",
   "metadata": {},
   "source": [
    "### percabangan if/else"
   ]
  },
  {
   "cell_type": "markdown",
   "metadata": {},
   "source": [
    "percabangan if/ else digunakan untuk mengeksekusi sebuah perintah yang memiliki 2 kondisi.\n",
    "\n",
    "jika kondisi pertama benar maka akan dieksekusi \n",
    "akan tetapi,jika kondisi pertama  salah , maka kondisi yang lain akan dieksekusi.\n",
    "\n",
    "adapun sintaks penulisanya adalah sebagai berikut:\n"
   ]
  },
  {
   "cell_type": "code",
   "execution_count": null,
   "metadata": {},
   "outputs": [],
   "source": [
    "if kondisi:\n",
    "    eksekusi\n",
    "else:\n",
    "    eksekusi"
   ]
  },
  {
   "cell_type": "markdown",
   "metadata": {},
   "source": [
    "sebagai contoh :\n",
    "\"jika umur saya sama dengan atau lebih dari 17 tahun , maka saya sudah bisa membuat KTP. jika belum , maka saya belum bisa membuat KTP\"\n",
    "\n",
    "kode programnya akan terlihat sebagai berikut:"
   ]
  },
  {
   "cell_type": "code",
   "execution_count": 7,
   "metadata": {},
   "outputs": [
    {
     "name": "stdout",
     "output_type": "stream",
     "text": [
      "Berapa umur kamu: 18\n",
      "Kamu bisa membuat KTP\n"
     ]
    }
   ],
   "source": [
    "umur = int(input(\"Berapa umur kamu: \"))\n",
    "\n",
    "if umur >= 17:\n",
    "    print(\"Kamu bisa membuat KTP\")\n",
    "else:\n",
    "    print(\"Kamu belum bisa membuat KTP\")"
   ]
  },
  {
   "cell_type": "markdown",
   "metadata": {},
   "source": [
    "### percabangan if/elif/else"
   ]
  },
  {
   "cell_type": "markdown",
   "metadata": {},
   "source": [
    "percabangan jenis ini akan digunakan jika keadaan kondisi terdapat lebih dari 2 pilihan\n",
    "\n",
    "adapun sintaks penulisanya adalah sebagai berikut :\n"
   ]
  },
  {
   "cell_type": "code",
   "execution_count": null,
   "metadata": {},
   "outputs": [],
   "source": [
    "if begini:\n",
    "    maka ini\n",
    "elif begitu:\n",
    "    maka itu\n",
    "else:\n",
    "    pokoknya gitu dah!"
   ]
  },
  {
   "cell_type": "markdown",
   "metadata": {},
   "source": [
    "berikut adalah ukuran skala ricter dan dampak yang bisa muncul\n",
    "\n",
    "< 4.0 = gempa kecil\n",
    "4 - 4.9  = gempa ringan\n",
    "5 - 5.9 = gempa sedang\n",
    "6 - 6.9 = gempa kuat\n",
    "7 - 7.9 = gempa besar\n",
    "> 8 = gempa dahsyat"
   ]
  },
  {
   "cell_type": "code",
   "execution_count": null,
   "metadata": {},
   "outputs": [],
   "source": [
    "sr = float(input(\"besar gempa = \"))\n",
    "if sr < 4.0:\n",
    "    print(\"Gempa kecil\")\n",
    "elif sr < 5.0:\n",
    "    print(\"Gempa ringan\")\n",
    "elif sr < 6.0:\n",
    "    print(\"Gempa sedang\")\n",
    "elif sr < 7.0:\n",
    "    print(\"Gempa kuat\")\n",
    "elif sr < 8.0:\n",
    "    print(\"Gempa besar\")\n",
    "else:\n",
    "    print(\"Gempa dahsyat\")\n",
    "\n",
    "    "
   ]
  }
 ],
 "metadata": {
  "kernelspec": {
   "display_name": "Python 3",
   "language": "python",
   "name": "python3"
  },
  "language_info": {
   "codemirror_mode": {
    "name": "ipython",
    "version": 3
   },
   "file_extension": ".py",
   "mimetype": "text/x-python",
   "name": "python",
   "nbconvert_exporter": "python",
   "pygments_lexer": "ipython3",
   "version": "3.7.2"
  }
 },
 "nbformat": 4,
 "nbformat_minor": 4
}
