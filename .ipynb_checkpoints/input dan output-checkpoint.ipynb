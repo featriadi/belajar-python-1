{
 "cells": [
  {
   "cell_type": "markdown",
   "metadata": {},
   "source": [
    "# Input dan Output\n"
   ]
  },
  {
   "cell_type": "markdown",
   "metadata": {},
   "source": [
    "Input merupakan masukan yang diberikan user ke program komputer\n",
    "program  nantinya akan memproses masukan tersebut dan akan menampilkan output dari masukan tersebut.\n",
    "pada bahasa pemrograman python untuk melakukan input menggunakan printah input()\n",
    "\n",
    "output merupakan keluaran / hasil dari suatu program\n",
    "untuk menampilkan output menggunakan perintah print()"
   ]
  },
  {
   "cell_type": "code",
   "execution_count": 3,
   "metadata": {},
   "outputs": [
    {
     "name": "stdout",
     "output_type": "stream",
     "text": [
      "Siapa nama kamu :yazid\n",
      "Berapa umur kamu: 12\n",
      "Hello yazid umur kamu adalah 12 tahun\n"
     ]
    }
   ],
   "source": [
    "# Mengambil input\n",
    "nama = input(\"Siapa nama kamu :\")\n",
    "umur = input(\"Berapa umur kamu: \")\n",
    "\n",
    "# Menampilkan output\n",
    "print(\"Hello\",nama,\"umur kamu adalah\",umur,\"tahun\")"
   ]
  },
  {
   "cell_type": "markdown",
   "metadata": {},
   "source": [
    "# cara memasukan input"
   ]
  },
  {
   "cell_type": "code",
   "execution_count": null,
   "metadata": {},
   "outputs": [],
   "source": [
    "cara memasukan input dapat menggunakan perintah input()\n",
    "untuk melakukan inputan teks maka kita hanya perlu memasukan teks ke input()\n",
    "untuk melakukan inputan angka desimal kita dapat memasukan perintah int(input(\"\"))\n",
    "untuk melakukan inputan angka float atau pecahan kita dapat memasukan perintah float(input(\"\"))"
   ]
  },
  {
   "cell_type": "code",
   "execution_count": 13,
   "metadata": {},
   "outputs": [
    {
     "name": "stdout",
     "output_type": "stream",
     "text": [
      "Inputkan nama: jono\n",
      "Inputkan umur: 19\n",
      "Inputkan tinggi badan: 168\n",
      "Inputkan berat badan: 64.3\n",
      "Hello jono, saat ini usiamu 19 tahun dan tinggi badanmu 168.000000 cm serta berat badanmu 64.300000\n"
     ]
    }
   ],
   "source": [
    "nama = input(\"Inputkan nama: \")\n",
    "umur = int(input(\"Inputkan umur: \"))\n",
    "tinggi = float(input(\"Inputkan tinggi badan: \"))\n",
    "berat = float(input(\"Inputkan berat badan: \"))\n",
    "\n",
    "print(\"Hello %s, saat ini usiamu %d tahun dan tinggi badanmu %f cm serta berat badanmu %f\"%(nama, umur, tinggi,berat))"
   ]
  },
  {
   "cell_type": "markdown",
   "metadata": {},
   "source": [
    "# Cara menampilkan Output"
   ]
  },
  {
   "cell_type": "markdown",
   "metadata": {},
   "source": [
    "untuk menampilkan output kita menggunakan perintah print()"
   ]
  },
  {
   "cell_type": "code",
   "execution_count": 6,
   "metadata": {},
   "outputs": [
    {
     "name": "stdout",
     "output_type": "stream",
     "text": [
      "Hello World!\n",
      "joni\n",
      "Nama saya : joni\n",
      "Nama saya : joni\n"
     ]
    }
   ],
   "source": [
    "#menampilkan teks\n",
    "print(\"Hello World!\")\n",
    "\n",
    "#menampilkan output variabel \n",
    "nama = \"joni\"\n",
    "print(nama)\n",
    "print(\"Nama saya :\", nama)\n",
    "print(\"Nama saya : \" + nama)"
   ]
  },
  {
   "cell_type": "markdown",
   "metadata": {},
   "source": [
    "menggunakan fungsi format()\n",
    "untuk menampilkan output variabel juga bisa menggunakan fungsi format().\n",
    "fungsi format() nantinya akan menggabungkan nilai variabel dan juga teks"
   ]
  },
  {
   "cell_type": "code",
   "execution_count": 7,
   "metadata": {},
   "outputs": [
    {
     "name": "stdout",
     "output_type": "stream",
     "text": [
      "Selamat datang joni ! \n"
     ]
    }
   ],
   "source": [
    "nama = \"joni\"\n",
    "print(\"Selamat datang {} ! \".format(nama))"
   ]
  },
  {
   "cell_type": "markdown",
   "metadata": {},
   "source": [
    "Tanda {} nantinya akan otomatis diubah sesuai isi yang ada di dalam variabel"
   ]
  },
  {
   "cell_type": "code",
   "execution_count": 8,
   "metadata": {},
   "outputs": [
    {
     "name": "stdout",
     "output_type": "stream",
     "text": [
      "joni dan jono merupakan kakak beradik ! \n"
     ]
    }
   ],
   "source": [
    "kakak = \"joni\"\n",
    "adik = \"jono\"\n",
    "print(\"{} dan {} merupakan kakak beradik ! \".format(kakak,adik))"
   ]
  },
  {
   "cell_type": "markdown",
   "metadata": {},
   "source": [
    "menampilkan output dengan string formatting\n",
    "\n",
    "menampilkan ouput juga bisa menggunakan string formatting dengan menggunakan simbol %\n",
    "nantinya %s untuk format string ,%d untuk format angka desimal, %f untuk format angka pecahan"
   ]
  },
  {
   "cell_type": "markdown",
   "metadata": {},
   "source": [
    "nama = input(\"Inputkan nama: \")\n",
    "umur = int(input(\"Inputkan umur: \"))\n",
    "tinggi = float(input(\"Inputkan tinggi badan: \"))\n",
    "\n",
    "print(\"Hello %s, saat ini usiamu %d tahun dan tinggi badanmu %f cm\"%(nama, umur, tinggi))"
   ]
  }
 ],
 "metadata": {
  "kernelspec": {
   "display_name": "Python 3",
   "language": "python",
   "name": "python3"
  },
  "language_info": {
   "codemirror_mode": {
    "name": "ipython",
    "version": 3
   },
   "file_extension": ".py",
   "mimetype": "text/x-python",
   "name": "python",
   "nbconvert_exporter": "python",
   "pygments_lexer": "ipython3",
   "version": "3.7.2"
  }
 },
 "nbformat": 4,
 "nbformat_minor": 4
}
