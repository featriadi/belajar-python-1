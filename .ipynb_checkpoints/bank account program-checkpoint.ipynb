{
 "cells": [
  {
   "cell_type": "code",
   "execution_count": null,
   "metadata": {},
   "outputs": [],
   "source": []
  },
  {
   "cell_type": "code",
   "execution_count": null,
   "metadata": {},
   "outputs": [],
   "source": [
    "saldo=300.000\n",
    "print(\"    ATM    \")\n",
    "print(\"\"\"\n",
    "1)        Saldo\n",
    "2)        Tarik Uang\n",
    "3)        Deposit\n",
    "4)        Keluar\n",
    "\n",
    "\n",
    "\"\"\")\n",
    "Option=int(input(\"M: \"))\n",
    "\n",
    "if Option==1:\n",
    "    print(\"Balance  £ \",balance)\n",
    "\n",
    "\n",
    "if Option==2:\n",
    "    print(\"Balance  £  \",balance)\n",
    "    Withdraw=float(input(\"Enter Withdraw amount £ \"))\n",
    "    if Withdraw>0:\n",
    "        forewardbalance=(balance-Withdraw)\n",
    "        print(\"Foreward Balance  £ \",forewardbalance)\n",
    "    elif Withdraw>balance:\n",
    "        print(\"No funs in account\")\n",
    "    else:\n",
    "        print(\"None withdraw made\")\n",
    "\n",
    "if Option==3:\n",
    "    print(\"Balance  £ \",balance)\n",
    "    Deposit=float(input(\"Enter deposit amount £ \"))\n",
    "    if Deposit>0:\n",
    "        forewardbalance=(balance+Deposit)\n",
    "        print(\"Forewardbalance  £ \",forewardbalance)\n",
    "    else:\n",
    "        print(\"None deposit made\")\n",
    "\n",
    "\n",
    "if Option==4:\n",
    "    exit()\n",
    "\n"
   ]
  }
 ],
 "metadata": {
  "kernelspec": {
   "display_name": "Python 3",
   "language": "python",
   "name": "python3"
  },
  "language_info": {
   "codemirror_mode": {
    "name": "ipython",
    "version": 3
   },
   "file_extension": ".py",
   "mimetype": "text/x-python",
   "name": "python",
   "nbconvert_exporter": "python",
   "pygments_lexer": "ipython3",
   "version": "3.7.2"
  }
 },
 "nbformat": 4,
 "nbformat_minor": 4
}
