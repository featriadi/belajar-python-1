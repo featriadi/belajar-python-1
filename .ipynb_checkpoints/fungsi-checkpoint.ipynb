{
 "cells": [
  {
   "cell_type": "markdown",
   "metadata": {},
   "source": [
    "# fungsi"
   ]
  },
  {
   "cell_type": "markdown",
   "metadata": {},
   "source": [
    "fungsi merupakan sebuah program yang bisa dipanggil dan digunkan secara berulang kali. fungsi juga biasa disebut sub program.\n",
    "kiasanya kita nanti akan menulis program secara kompleks dan juga akan banyak memiliki fitur fitur yang bermacam macam.dari program program yang kompleks nantinya bisa dipecah dan digunakan pemanggilan fungsi.\n",
    "\n",
    "sebagai analogi dari fungsi anggota tubuh manusia memiliki beberapa fungsi dari anggota tubuhnya.seperti tangan untuk makan. kaki untuk berjalan. telinga untuk mendengar.fungsi anggota badan dalam satu tubuh berbeda beda dan akan bekerja ketika dibutuhkan pada suatu waktu. begitu juga dengan program dari program yang kompleks akan dipecah menjadi beberapa fungsi dan kita bisa memanggil fungsi tersebut ketika kita ingin memakai fungsi tersebut."
   ]
  },
  {
   "cell_type": "code",
   "execution_count": null,
   "metadata": {},
   "outputs": [],
   "source": []
  }
 ],
 "metadata": {
  "kernelspec": {
   "display_name": "Python 3",
   "language": "python",
   "name": "python3"
  },
  "language_info": {
   "codemirror_mode": {
    "name": "ipython",
    "version": 3
   },
   "file_extension": ".py",
   "mimetype": "text/x-python",
   "name": "python",
   "nbconvert_exporter": "python",
   "pygments_lexer": "ipython3",
   "version": "3.7.2"
  }
 },
 "nbformat": 4,
 "nbformat_minor": 4
}
