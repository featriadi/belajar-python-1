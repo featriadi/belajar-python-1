{
 "cells": [
  {
   "cell_type": "markdown",
   "metadata": {},
   "source": [
    "# penulisan statement\n"
   ]
  },
  {
   "cell_type": "code",
   "execution_count": null,
   "metadata": {},
   "outputs": [],
   "source": [
    " penulisan python\n",
    " \n",
    " Aturan 1 : penulisan statement pada python tidak diakhiri dengan titik koma"
   ]
  },
  {
   "cell_type": "code",
   "execution_count": 10,
   "metadata": {},
   "outputs": [
    {
     "name": "stdout",
     "output_type": "stream",
     "text": [
      "hello world\n",
      "100\n"
     ]
    }
   ],
   "source": [
    "print('hello world')\n",
    "\n",
    "panjang = 100\n",
    "print(panjang)"
   ]
  },
  {
   "cell_type": "markdown",
   "metadata": {},
   "source": [
    "aturan 2 : penulisan statement pada bahasa python diakhiri dengan baris baru. jadi setiap pernyataan hanya memuat satu baris baru"
   ]
  },
  {
   "cell_type": "code",
   "execution_count": 13,
   "metadata": {},
   "outputs": [
    {
     "name": "stdout",
     "output_type": "stream",
     "text": [
      "luas 600\n"
     ]
    }
   ],
   "source": [
    "panjang = 100\n",
    "lebar = 6\n",
    "luas = panjang * lebar\n",
    "print(\"luas\",luas)"
   ]
  },
  {
   "cell_type": "markdown",
   "metadata": {},
   "source": [
    "aturan 3 : jika statement ingin memiliki lebih dari satu baris , maka dapat ditambahkan tanda backslash (\"\\\")"
   ]
  },
  {
   "cell_type": "code",
   "execution_count": 15,
   "metadata": {},
   "outputs": [
    {
     "name": "stdout",
     "output_type": "stream",
     "text": [
      "400\n"
     ]
    }
   ],
   "source": [
    "panjang = 10\n",
    "lebar = 5\n",
    "tinggi = 8\n",
    "volume = panjang * lebar * \\\n",
    "         tinggi\n",
    "print(volume)"
   ]
  },
  {
   "cell_type": "markdown",
   "metadata": {},
   "source": [
    "aturan4 : statemen tang berada / diapit dalam tanda ().{}.[] tidak memerlukan tanda \"\\\""
   ]
  },
  {
   "cell_type": "code",
   "execution_count": 16,
   "metadata": {},
   "outputs": [
    {
     "name": "stdout",
     "output_type": "stream",
     "text": [
      "400\n"
     ]
    }
   ],
   "source": [
    "panjang = 10\n",
    "lebar = 5\n",
    "tinggi = 8\n",
    "volume = (panjang * lebar * \n",
    "         tinggi)\n",
    "print(volume)"
   ]
  },
  {
   "cell_type": "markdown",
   "metadata": {},
   "source": [
    "aturan 5 : statement pada python sensitif terhadap sintaks. python menggunakan tanda indentasi(spasi) sebagai penanda blok.panjang indentasi pada setiap blok harus sama dala satu kode blok. bila indentasi tidak sama maka akan muncul pesan error"
   ]
  },
  {
   "cell_type": "code",
   "execution_count": 18,
   "metadata": {},
   "outputs": [
    {
     "name": "stdout",
     "output_type": "stream",
     "text": [
      "lulus masuk SD\n"
     ]
    }
   ],
   "source": [
    "//contoh benar\n",
    "\n",
    "usia = 8\n",
    "\n",
    "if usia >= 7:\n",
    "    print(\"lulus masuk SD\")\n",
    "else:\n",
    "    print(\"tidak lulus SD\")"
   ]
  },
  {
   "cell_type": "code",
   "execution_count": 27,
   "metadata": {},
   "outputs": [
    {
     "ename": "SyntaxError",
     "evalue": "invalid syntax (<ipython-input-27-df1981190017>, line 1)",
     "output_type": "error",
     "traceback": [
      "\u001b[1;36m  File \u001b[1;32m\"<ipython-input-27-df1981190017>\"\u001b[1;36m, line \u001b[1;32m1\u001b[0m\n\u001b[1;33m    //contoh salah\u001b[0m\n\u001b[1;37m     ^\u001b[0m\n\u001b[1;31mSyntaxError\u001b[0m\u001b[1;31m:\u001b[0m invalid syntax\n"
     ]
    }
   ],
   "source": [
    "#contoh salah\n",
    "\n",
    "usia = 8\n",
    "\n",
    "if usia >= 7:\n",
    "        print(\"lulus masuk SD\")\n",
    "else:\n",
    "    print(\"tidak lulus SD\")"
   ]
  },
  {
   "cell_type": "markdown",
   "metadata": {},
   "source": [
    "aturan 6 : sebagai penanda pada string python menggunakan tanda kutip.baik itu kutip satu ('') maupun kutip dua (\"\"). \n",
    "    tanda kutip tiga digunakan untuk string multi baris\n"
   ]
  },
  {
   "cell_type": "code",
   "execution_count": 21,
   "metadata": {},
   "outputs": [
    {
     "name": "stdout",
     "output_type": "stream",
     "text": [
      "joni\n",
      "muhammad ahmad akbar bin \n",
      "muhmmad haris\n"
     ]
    }
   ],
   "source": [
    "nama = 'joni'\n",
    "namapanjang = \"\"\"muhammad ahmad akbar bin \n",
    "muhmmad haris\"\"\"\n",
    "print(nama)\n",
    "print(namapanjang)"
   ]
  },
  {
   "cell_type": "markdown",
   "metadata": {},
   "source": [
    "aturan 7 : pada python penulisannya case sensitif(membedakan antara huruf besar dan kecil)"
   ]
  },
  {
   "cell_type": "code",
   "execution_count": 28,
   "metadata": {},
   "outputs": [
    {
     "name": "stdout",
     "output_type": "stream",
     "text": [
      "1000\n"
     ]
    }
   ],
   "source": [
    "luas = 1000\n",
    "print(luas) # bukan Luas"
   ]
  },
  {
   "cell_type": "markdown",
   "metadata": {},
   "source": [
    "aturan 8: penulisan komentar menggunakan tanda pagar# sebagai awal\n",
    "          komentar nantinya tidak akan dieksekusi"
   ]
  },
  {
   "cell_type": "code",
   "execution_count": 29,
   "metadata": {},
   "outputs": [
    {
     "name": "stdout",
     "output_type": "stream",
     "text": [
      "luas =  1000\n",
      "volume = 1000\n"
     ]
    }
   ],
   "source": [
    "#perintah untuk menampilkan luas dan volume\n",
    "# luas = 100\n",
    "volume = 1000\n",
    "print(\"luas = \",luas)\n",
    "print(\"volume =\",volume)"
   ]
  },
  {
   "cell_type": "code",
   "execution_count": null,
   "metadata": {},
   "outputs": [],
   "source": []
  },
  {
   "cell_type": "code",
   "execution_count": null,
   "metadata": {},
   "outputs": [],
   "source": []
  }
 ],
 "metadata": {
  "kernelspec": {
   "display_name": "Python 3",
   "language": "python",
   "name": "python3"
  },
  "language_info": {
   "codemirror_mode": {
    "name": "ipython",
    "version": 3
   },
   "file_extension": ".py",
   "mimetype": "text/x-python",
   "name": "python",
   "nbconvert_exporter": "python",
   "pygments_lexer": "ipython3",
   "version": "3.7.2"
  }
 },
 "nbformat": 4,
 "nbformat_minor": 4
}
