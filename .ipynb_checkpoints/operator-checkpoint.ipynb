{
 "cells": [
  {
   "cell_type": "markdown",
   "metadata": {},
   "source": [
    "# Operator\n",
    "\n",
    "\n",
    "Operator adalah simbol simbol yang digunakan untuk melakukan sebuah operasi tertentu.\n",
    "Dalam bahasa pemrograman python ada beberapa jenis operator yang dapat kita ketahui.\n",
    "adapun jenis jenis operator yang kita perlu ketahui dalam python terdapat 6 macam.\n",
    "\n",
    "1. Operator aritmatika\n",
    "2. Operator pembanding\n",
    "3. Operator penugasan\n",
    "4. Operator Logika\n",
    "5. Operator bitwise\n",
    "6. Operator Ternary"
   ]
  },
  {
   "cell_type": "markdown",
   "metadata": {},
   "source": [
    "1. Operator Aritmatika\n",
    "operrator aritmatika merupakan opertaor yang digunakan untuk melakukan operasi operasi matematika\n",
    "\n",
    "terdapat beberapa operator aritmatika antara lain:\n",
    "\n",
    "operator penjumlahan dilambangkan dengan simnol \"+\"\n",
    "operator pengurangan dilambangkan dengan simnol \"-\"\n",
    "operator perkalian dilambangkan dengan simnol \"*\"\n",
    "operator pembagian dilambangkan dengan simnol \"/\"\n",
    "operator sisa bagi dilambangkan dengan simnol \"%\"\n",
    "operator pangkat dilambangkan dengan simnol \"**\""
   ]
  },
  {
   "cell_type": "code",
   "execution_count": 11,
   "metadata": {},
   "outputs": [
    {
     "name": "stdout",
     "output_type": "stream",
     "text": [
      "Hasil 10 + 2 = 12\n",
      "Hasil 10 - 2 = 8\n",
      "Hasil 10 * 2 = 20\n",
      "Hasil 10 / 2 = 5\n",
      "Hasil 10 % 2 = 0\n",
      "Hasil 10 ** 2 = 100\n"
     ]
    }
   ],
   "source": [
    "\n",
    "# Menggunakan operator penjumlahan\n",
    "a = 10\n",
    "b = 2\n",
    "c = a + b\n",
    "print(\"Hasil %d + %d = %d\" % (a,b,c))\n",
    "# Operator Pengurangan\n",
    "c = a - b\n",
    "print(\"Hasil %d - %d = %d\" % (a,b,c))\n",
    "\n",
    "# Operator Perkalian\n",
    "c = a * b\n",
    "print(\"Hasil %d * %d = %d\" % (a,b,c))\n",
    "\n",
    "# Operator Pembagian\n",
    "c = a / b\n",
    "print(\"Hasil %d / %d = %d\" % (a,b,c))\n",
    "\n",
    "# Operator Sisa Bagi\n",
    "c = a % b\n",
    "print(\"Hasil %d %% %d = %d\" % (a,b,c))\n",
    "\n",
    "# Operator Pangkat\n",
    "c = a ** b\n",
    "print(\"Hasil %d ** %d = %d\" % (a,b,c))"
   ]
  },
  {
   "cell_type": "markdown",
   "metadata": {},
   "source": [
    "Operator Pembanding\n",
    "Operator pembanding merupakan operator yang digunakan untuk membandingkan suatu nilai dari masing masing operan\n",
    "\n",
    "Lebih Besar\tdisimbolkan \">\"\n",
    "Lebih Kecil\tdisimbolkan \"<\"\n",
    "Sama Dengan\tdisimbolkan dengan \"==\"\n",
    "Tidak Sama dengan disimbolkan dengan \"!=\"\n",
    "Lebih Besar Sama dengan\t disimbolkan dengan \">=\"\n",
    "Lebih Kecil Sama dengan\tdisimbolkan dengan \"<=\""
   ]
  },
  {
   "cell_type": "code",
   "execution_count": 18,
   "metadata": {},
   "outputs": [
    {
     "name": "stdout",
     "output_type": "stream",
     "text": [
      "apakah 10 > 2 = True\n",
      "apakah 10 < 2 = False\n",
      "apakah 10 == 2 = False\n",
      "apakah 10 tidak sama dengan 2 = True\n",
      "apakah 10 lebih besar sama dengan 2 = True\n",
      "apakah 10 ** 2 = False\n"
     ]
    }
   ],
   "source": [
    "\n",
    "# Menggunakan operator penjumlahan\n",
    "a = 10\n",
    "b = 2\n",
    "\n",
    "#operator lebih besar\n",
    "c = a > b\n",
    "print(\"apakah %d > %d = %r\" % (a,b,c))\n",
    "# Operator lebih kecil\n",
    "c = a < b\n",
    "print(\"apakah %d < %d = %r\" % (a,b,c))\n",
    "\n",
    "# Operator sama dengan\n",
    "c = a == b\n",
    "print(\"apakah %d == %d = %r\" % (a,b,c))\n",
    "\n",
    "# Operator Tidak sama Dengan\n",
    "c = a != b\n",
    "print(\"apakah %d tidak sama dengan %d = %r\" % (a,b,c))\n",
    "\n",
    "# Operator Lebih Besar Sama Dengan\n",
    "c = a >= b\n",
    "print(\"apakah %d lebih besar sama dengan %d = %r\" % (a,b,c))\n",
    "\n",
    "# Operator lebih kecil sama dengan\n",
    "c = a <= b\n",
    "print(\"apakah %d ** %d = %r\" % (a,b,c))"
   ]
  },
  {
   "cell_type": "markdown",
   "metadata": {},
   "source": [
    "operator penugasan\n",
    "operator penugasan digunakan untuk memberi tugas pada variabel\n",
    "Pengisian disimbolkan dengan =\n",
    "Penjumlahan disimbolkan dengan +=\n",
    "Pengurangan disimbolkan dengan -=\n",
    "Perkalian disimbolkan dengan *=\n",
    "Pembagian disimbolkan dengan /=\n",
    "Sisa Bagi disimbolkan dengan %=\n",
    "Pemangkatan disimbolkan dengan **="
   ]
  },
  {
   "cell_type": "code",
   "execution_count": 19,
   "metadata": {},
   "outputs": [
    {
     "name": "stdout",
     "output_type": "stream",
     "text": [
      "Nilai a adalah 4\n",
      "Nilai a adalah 1\n",
      "Nilai a adalah 10\n",
      "Nilai a adalah 2\n",
      "Nilai a adalah 9536\n",
      "Nilai a adalah 9536\n"
     ]
    }
   ],
   "source": [
    "a = 2\n",
    "\n",
    "# tambahkan dengan 2\n",
    "a += 2\n",
    "\n",
    "print(\"Nilai a adalah %d\" % a) \n",
    "# kurangi 3\n",
    "a -= 3\n",
    "\n",
    "print(\"Nilai a adalah %d\" % a) \n",
    "\n",
    "# kali 10\n",
    "a *= 10\n",
    "\n",
    "print(\"Nilai a adalah %d\" % a) \n",
    "\n",
    "# bagi dengan 4\n",
    "a /= 4\n",
    "\n",
    "print(\"Nilai a adalah %d\" % a) \n",
    "\n",
    "# pangkat 10\n",
    "a **= 10\n",
    "\n",
    "print(\"Nilai a adalah %d\" % a) \n",
    "\n",
    "# Berapakah nilai a sekarang?\n",
    "print(\"Nilai a adalah %d\" % a) "
   ]
  },
  {
   "cell_type": "markdown",
   "metadata": {},
   "source": [
    "Operator logika \n",
    "operator logika digunakan untuk melakukan operasi operasi logika \n",
    "\n",
    "adapun opertaor logika terdiri dari tiga macam : \n",
    "\n",
    "Logika AND\tdisimbolkan dengan \"and\"\n",
    "Logika OR\tdisimbolkan dengan \"or\"\n",
    "Negasi/kebalikan disimbolkan dengan \"not\""
   ]
  },
  {
   "cell_type": "code",
   "execution_count": 20,
   "metadata": {},
   "outputs": [
    {
     "name": "stdout",
     "output_type": "stream",
     "text": [
      "True and False = False\n",
      "True or False = True\n",
      "not True  = False\n"
     ]
    }
   ],
   "source": [
    "a = True\n",
    "b = False\n",
    "\n",
    "# Logika AND\n",
    "c = a and b\n",
    "print(\"%r and %r = %r\" % (a,b,c))\n",
    "\n",
    "# Logika OR\n",
    "c = a or b\n",
    "print(\"%r or %r = %r\" % (a,b,c))\n",
    "# Logika Not\n",
    "c = not a\n",
    "print(\"not %r  = %r\" % (a,c))"
   ]
  },
  {
   "cell_type": "markdown",
   "metadata": {},
   "source": [
    "Operator bitwise\n",
    "Operator bitwise merupakan operator yang digunakan untuk mengoperasikan bilangan  berdasarkan bit / biner\n",
    "\n",
    "adapun beberapa operator bitwise sebagai berikut :\n",
    "AND disimbolkan dengan \"&\"\n",
    "OR disimbolkan dengan \"|\"\n",
    "XOR disimbokan dengan \"^\"\n",
    "Negasi/kebalikan disimbolkan dengan \"~\"\n",
    "Left Shift disimbo;kan dengan \"<<\"\n",
    "Right Shift disimbolkan dengan \">>\""
   ]
  },
  {
   "cell_type": "code",
   "execution_count": 22,
   "metadata": {},
   "outputs": [
    {
     "name": "stdout",
     "output_type": "stream",
     "text": [
      "a & b = 4\n",
      "a | b = 5\n",
      "a ^ b = 1\n",
      "~a = -5\n",
      "a << b = 128\n",
      "a >> b = 0\n"
     ]
    }
   ],
   "source": [
    "a = 4\n",
    "b = 5\n",
    "\n",
    "# Operasi AND\n",
    "c = a & b\n",
    "print(\"a & b = %s\" % c)\n",
    "\n",
    "# Operasi OR\n",
    "c = a | b\n",
    "print(\"a | b = %s\" % c)\n",
    "\n",
    "# Operasi XOR\n",
    "c = a ^ b\n",
    "print(\"a ^ b = %s\" % c)\n",
    "\n",
    "# Operasi Not\n",
    "c = ~a\n",
    "print(\"~a = %s\" % c)\n",
    "\n",
    "# Operasi shift left (tukar posisi biner)\n",
    "c = a << b\n",
    "print(\"a << b = %s\" % c)\n",
    "\n",
    "# Operasi shift right (tukar posisi biner)\n",
    "c = a >> b \n",
    "print(\"a >> b = %s\" % c)"
   ]
  },
  {
   "cell_type": "markdown",
   "metadata": {},
   "source": [
    "Operator Ternary\n",
    "Operator Ternary merupakan sebuah operator yang biasa digunakan untuk membuat sebuah operasi ekspersi kondisi\n",
    "operator ini juga bisa kita sebut sebagai operator kondisi\n",
    "\n",
    "sebagai contoh\n",
    "Apakah besok libur ? ya : tidak;\n",
    "\n",
    "dalam python penulisan operator ternary adalah sebagai berikut:\n",
    "<Nilai True> if Kondisi else <Nilai False>\n",
    "    \n",
    "penulisanya menggunakan if dan else. if jika perintah pertama bernilai benar , jika salah akan menjalankan printah else \n",
    "    "
   ]
  },
  {
   "cell_type": "code",
   "execution_count": 26,
   "metadata": {},
   "outputs": [
    {
     "name": "stdout",
     "output_type": "stream",
     "text": [
      "bukan hari idul fitri\n"
     ]
    }
   ],
   "source": [
    "idul_fitri = 1\n",
    "hari_sekarang = 4\n",
    "hari = \"hari ini idul fitri\" if hari_sekarang == idul_fitri else \"bukan hari idul fitri\"\n",
    "print(hari)\n"
   ]
  }
 ],
 "metadata": {
  "kernelspec": {
   "display_name": "Python 3",
   "language": "python",
   "name": "python3"
  },
  "language_info": {
   "codemirror_mode": {
    "name": "ipython",
    "version": 3
   },
   "file_extension": ".py",
   "mimetype": "text/x-python",
   "name": "python",
   "nbconvert_exporter": "python",
   "pygments_lexer": "ipython3",
   "version": "3.7.2"
  }
 },
 "nbformat": 4,
 "nbformat_minor": 4
}
