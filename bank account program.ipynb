{
 "cells": [
  {
   "cell_type": "code",
   "execution_count": 6,
   "metadata": {},
   "outputs": [
    {
     "name": "stdout",
     "output_type": "stream",
     "text": [
      "    ATM    \n",
      "\n",
      "1)        Saldo\n",
      "2)        Tarik Uang\n",
      "3)        Deposit\n",
      "4)        Keluar\n",
      "\n",
      "\n",
      "\n",
      "Masukan Pilihan Anda: 1\n",
      "Saldo  Rp.  300000\n"
     ]
    }
   ],
   "source": [
    "saldo=300000\n",
    "print(\"    ATM    \")\n",
    "print(\"\"\"\n",
    "1)        Saldo\n",
    "2)        Tarik Uang\n",
    "3)        Deposit\n",
    "4)        Keluar\n",
    "\n",
    "\n",
    "\"\"\")\n",
    "Option=int(input(\"Masukan Pilihan Anda: \"))\n",
    "\n",
    "if Option==1:\n",
    "    print(\"Saldo  Rp. \",saldo)\n",
    "\n",
    "\n",
    "if Option==2:\n",
    "    print(\"Saldo  Rp.  \",saldo)\n",
    "    tarik_uang=float(input(\"masukan jumlah penarikan uang = Rp. \"))\n",
    "    if tarik_uang>0:\n",
    "        pasca_tarik=(saldo - tarik_uang)\n",
    "        print(\"Saldo setelah ditarik  Rp \",pasca_tarik)\n",
    "    elif tarik_uang > saldo:\n",
    "        print(\"Saldo anda tidak cukup\")\n",
    "    else:\n",
    "        print(\"Tidak ada penarikan uang\")\n",
    "\n",
    "if Option==3:\n",
    "    print(\"Saldo  £ \",saldo)\n",
    "    deposit=float(input(\"Masukan jumlah uang yang ingin disetor Rp. \"))\n",
    "    if deposit>0:\n",
    "        saldo_pasca_deposit=(saldo+deposit)\n",
    "        print(\"Saldo anda sekarang  Rp \",saldo_pasca_deposit)\n",
    "    else:\n",
    "        print(\"None deposit made\")\n",
    "\n",
    "\n",
    "if Option==4:\n",
    "    exit()\n",
    "\n"
   ]
  }
 ],
 "metadata": {
  "kernelspec": {
   "display_name": "Python 3",
   "language": "python",
   "name": "python3"
  },
  "language_info": {
   "codemirror_mode": {
    "name": "ipython",
    "version": 3
   },
   "file_extension": ".py",
   "mimetype": "text/x-python",
   "name": "python",
   "nbconvert_exporter": "python",
   "pygments_lexer": "ipython3",
   "version": "3.7.2"
  }
 },
 "nbformat": 4,
 "nbformat_minor": 4
}
