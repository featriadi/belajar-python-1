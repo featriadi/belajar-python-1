{
 "cells": [
  {
   "cell_type": "markdown",
   "metadata": {},
   "source": [
    "# Tipe Data\n",
    "Tipe data merupakan tipe dari berbagai jenis data. setiap data memiliki jenis dan tipe tipe yang berbeda. dalam python kita tidak perlu mendeklarasikan jenis tipe datanya.tipe data biasa bisa digunakan untuk membuat data dengan  tipe tertentu sesuai kebutuhan"
   ]
  },
  {
   "cell_type": "markdown",
   "metadata": {},
   "source": [
    "Tipe data 1 : Tipe data karakter\n",
    "\n",
    "Tipe data karakter biasa juga disebut dengan tipe data string\n",
    "Tipe data string bisa memuat huruf dan juga angka bahkan juga simbol\n",
    "nilai karakter dalam string harus diapit dengan kutip satu (') atau kutip dua (\")\n",
    "untuk string dengan baris yang banyak bisa menggunakan kutip 3 kali(\"\"\")"
   ]
  },
  {
   "cell_type": "code",
   "execution_count": null,
   "metadata": {},
   "outputs": [],
   "source": [
    "nama = 'ahmad'\n",
    "kelas = \"9D\"\n",
    "pernyataan = \"\"\" jalan setaibudi blok 1\n",
    "            kelurahan kebayoran baru jakarta selatan!\"\"\"\n",
    "print(nama)\n",
    "print(nama_panjang)\n",
    "print(pernyataan)"
   ]
  },
  {
   "cell_type": "markdown",
   "metadata": {},
   "source": [
    "Tipe data 2 : Tipe data karakter\n",
    "integer = merupakan tipe data untuk menyatakan bilangan bulat ex: 1,2,3,4,5\n",
    "float = merupakan tipe data untuk menyatakan bilangan desimal ex: 1.1,2.2,5.7\n",
    "oktal = merupakan tipe data untuk menyatakan bilangan oktal(bilangan yang berbasis 8)"
   ]
  },
  {
   "cell_type": "code",
   "execution_count": null,
   "metadata": {},
   "outputs": [],
   "source": [
    "jari_jari = 7\n",
    "phi = 3.14\n",
    "luas_lingkaran = phi * jari_jari * jari_jari\n",
    "print(\"luas lingkaran =\",luas_lingkaran)"
   ]
  },
  {
   "cell_type": "markdown",
   "metadata": {},
   "source": [
    "Tipe data 3 : Tipe Data boolean\n",
    "yaitu tipe data yang menyatakan jika suatu bernilai benar akan bernilai True atau 1dan jika salah akan bernilai False atau 0"
   ]
  },
  {
   "cell_type": "code",
   "execution_count": 9,
   "metadata": {},
   "outputs": [
    {
     "name": "stdout",
     "output_type": "stream",
     "text": [
      "True\n",
      "False\n"
     ]
    }
   ],
   "source": [
    "lulus = True\n",
    "gagal = False\n",
    "print(lulus)\n",
    "print(gagal)"
   ]
  },
  {
   "cell_type": "markdown",
   "metadata": {},
   "source": [
    "tipe data 4: List\n",
    "List merupakan sebauh struktur data yang dapat menyimpan banyak data dengan tipe data yang berbeda.\n",
    "penulisan list sama seperti variabel akan tetapi list dapat diisi banyak data akan tetapi nilainya diisi didalam kurung kotak[]\n",
    "cara mengakses nilai didalam list dengan menyebutkan nilai indeksnya dalam kurung kotak []\n",
    "indeks dalam list dimulai dari 0"
   ]
  },
  {
   "cell_type": "code",
   "execution_count": 17,
   "metadata": {},
   "outputs": [
    {
     "name": "stdout",
     "output_type": "stream",
     "text": [
      "['motor', 'mobil', 'sepeda']\n",
      "[]\n",
      "motor\n",
      "['motor', 'pesawat', 'sepeda']\n"
     ]
    }
   ],
   "source": [
    "#contoh list kosong\n",
    "barang = []\n",
    "\n",
    "#contoh list yang diisi nilai\n",
    "kendaraan = [\"motor\",\"mobil\",\"sepeda\"]\n",
    "print(kendaraan)\n",
    "kendaraan[1] = \"pesawat\"\n",
    "print(barang)\n",
    "\n",
    "print(kendaraan[0])\n",
    "print(kendaraan[:3])"
   ]
  },
  {
   "cell_type": "code",
   "execution_count": null,
   "metadata": {},
   "outputs": [],
   "source": [
    "Tipe data 5: Tuple\n",
    "Tuple merupakan sebuah struktur data yang hampir sama dengan list yaitu struktur data yang dapat menampung banyak data \n",
    "dengan tipe data yang berbeda. \n",
    "akan tetapi Tuple bersifat immutable yang artinya nilai yang ada didalamnya tidak bisa dirubah\n",
    "penulisan Tuple bisa menggunakan tanda kurung maupun tidak\n",
    "indeks dalam Tuple dimulai dari 0\n"
   ]
  },
  {
   "cell_type": "code",
   "execution_count": 22,
   "metadata": {},
   "outputs": [
    {
     "name": "stdout",
     "output_type": "stream",
     "text": [
      "nama = ahmad\n",
      "nama siswa= oji\n",
      "nilai ujian = 90\n",
      "kelas = 9D\n"
     ]
    }
   ],
   "source": [
    "#penulisan dengan kurung\n",
    "bio = (\"ahmad\",17,\"jakarta selatan\")\n",
    "print(\"nama =\",bio[0])\n",
    "\n",
    "#penulisan tanpa menggunakan kurung\n",
    "siswa =\"oji\",90,\"9D\"\n",
    "print(\"nama siswa=\",siswa[0])\n",
    "print(\"nilai ujian =\",siswa[1])\n",
    "print(\"kelas =\",siswa[2])\n"
   ]
  }
 ],
 "metadata": {
  "kernelspec": {
   "display_name": "Python 3",
   "language": "python",
   "name": "python3"
  },
  "language_info": {
   "codemirror_mode": {
    "name": "ipython",
    "version": 3
   },
   "file_extension": ".py",
   "mimetype": "text/x-python",
   "name": "python",
   "nbconvert_exporter": "python",
   "pygments_lexer": "ipython3",
   "version": "3.7.2"
  }
 },
 "nbformat": 4,
 "nbformat_minor": 4
}
